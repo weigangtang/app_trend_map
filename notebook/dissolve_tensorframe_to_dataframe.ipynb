{
 "cells": [
  {
   "cell_type": "code",
   "execution_count": 14,
   "metadata": {},
   "outputs": [],
   "source": [
    "import os, sys\n",
    "\n",
    "import pickle\n",
    "\n",
    "sys.path.append('../../funclib')\n",
    "import myclass"
   ]
  },
  {
   "cell_type": "code",
   "execution_count": 19,
   "metadata": {},
   "outputs": [],
   "source": [
    "method_list = ['original', 'rao', 'yue', 'prewhiten', 'trendfree']\n",
    "\n",
    "for method in method_list:\n",
    "    \n",
    "    mkout_fpath_frame = '../../analyze_hydrometrics_trend/data/cleaned/hym_mkout_tframe_{}.pkl'\n",
    "    mkout_fpath = mkout_fpath_frame.format(method)\n",
    "    with open(mkout_fpath, 'rb') as f:\n",
    "        mkout_tframe = pickle.load(f)\n",
    "\n",
    "    out_folder = '../data/mktest/{}'.format(method)\n",
    "    if not os.path.exists(out_folder): os.mkdir(out_folder)\n",
    "\n",
    "    metric_list = mkout_tframe.name2d\n",
    "    for target_metric in metric_list:\n",
    "        df = mkout_tframe.to_frame(target_metric)\n",
    "        df.to_csv(out_folder + '/{}.csv'.format(target_metric))"
   ]
  },
  {
   "cell_type": "code",
   "execution_count": null,
   "metadata": {},
   "outputs": [],
   "source": []
  }
 ],
 "metadata": {
  "kernelspec": {
   "display_name": "Python 3",
   "language": "python",
   "name": "python3"
  },
  "language_info": {
   "codemirror_mode": {
    "name": "ipython",
    "version": 3
   },
   "file_extension": ".py",
   "mimetype": "text/x-python",
   "name": "python",
   "nbconvert_exporter": "python",
   "pygments_lexer": "ipython3",
   "version": "3.8.5"
  }
 },
 "nbformat": 4,
 "nbformat_minor": 4
}
