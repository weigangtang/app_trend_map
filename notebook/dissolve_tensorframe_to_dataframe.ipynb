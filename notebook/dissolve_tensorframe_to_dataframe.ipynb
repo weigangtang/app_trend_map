{
 "cells": [
  {
   "cell_type": "code",
   "execution_count": 19,
   "metadata": {},
   "outputs": [],
   "source": [
    "import os\n",
    "import sys\n",
    "\n",
    "import pickle\n",
    "\n",
    "sys.path.append('../../funclib')\n",
    "from myclass import TensorFrame\n",
    "\n",
    "# root_dir = '../External/Python'\n",
    "# root_dir = '/Volumes/sambashare/Python'\n",
    "root_dir = '/media/weigangtang/Samba/Python'"
   ]
  },
  {
   "cell_type": "code",
   "execution_count": 4,
   "metadata": {},
   "outputs": [],
   "source": [
    "method_list = ['original', 'rao', 'yue', 'prewhiten', 'trendfree']\n",
    "\n",
    "for method in method_list:\n",
    "    \n",
    "    # mkout_fpath_frame = '../../analyze_hydrometrics_trend/data/cleaned/hym_mkout_tframe_{}.pkl'\n",
    "    mkout_fpath_frame = root_dir + '/flow_data/hydata_merged/mkout_1979-2021_30y_{}.pkl'\n",
    "    mkout_fpath = mkout_fpath_frame.format(method)\n",
    "    with open(mkout_fpath, 'rb') as f:\n",
    "        mkout_tframe = pickle.load(f)\n",
    "\n",
    "    out_folder = '../data/mktest/{}'.format(method)\n",
    "    if not os.path.exists(out_folder):\n",
    "        os.mkdir(out_folder)\n",
    "\n",
    "    metric_list = mkout_tframe.name2d\n",
    "    for target_metric in metric_list:\n",
    "        df = mkout_tframe.to_frame(target_metric)\n",
    "        df.to_csv(out_folder + '/{}.csv'.format(target_metric))"
   ]
  },
  {
   "cell_type": "code",
   "execution_count": 44,
   "metadata": {},
   "outputs": [],
   "source": [
    "# mkout_fpath_frame = '../../analyze_hydrometrics_trend/data/cleaned/hym_mkout_tframe_{}.pkl'\n",
    "hym_fpath = root_dir + '/flow_data/hydata_merged/hym_1979-2021_30y.csv'\n",
    "df_hym = pd.read_csv(hym_fpath, index_col=[0, 1])\n",
    "\n",
    "out_folder = '../data/hydrometrics'\n",
    "if not os.path.exists(out_folder):\n",
    "    os.mkdir(out_folder)\n",
    "\n",
    "for target_metric in df_hym.columns:\n",
    "    df = df_hym[target_metric].reset_index()\n",
    "    df = df.pivot(index='SID', columns='Year', values=target_metric)\n",
    "    df.to_csv(out_folder + '/{}.csv'.format(target_metric))"
   ]
  },
  {
   "cell_type": "code",
   "execution_count": null,
   "metadata": {},
   "outputs": [],
   "source": []
  }
 ],
 "metadata": {
  "kernelspec": {
   "display_name": "Python 3 (ipykernel)",
   "language": "python",
   "name": "python3"
  },
  "language_info": {
   "codemirror_mode": {
    "name": "ipython",
    "version": 3
   },
   "file_extension": ".py",
   "mimetype": "text/x-python",
   "name": "python",
   "nbconvert_exporter": "python",
   "pygments_lexer": "ipython3",
   "version": "3.8.12"
  }
 },
 "nbformat": 4,
 "nbformat_minor": 4
}
