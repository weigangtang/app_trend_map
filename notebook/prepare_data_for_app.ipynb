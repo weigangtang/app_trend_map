{
 "cells": [
  {
   "cell_type": "markdown",
   "metadata": {},
   "source": [
    "- dissolve large dataset into smaller ones\n",
    "    - GitHub only allows data file **<100MB**\n",
    "\n",
    "- required four datasets\n",
    "    - must include the same set of streams gauges\n",
    "\n",
    "- gauges\n",
    "    - a selection of streams for trend analysis\n",
    "    - at least 30 ADHs during 1979-2021\n",
    "\n",
    "- ADHs\n",
    "    - by streams\n",
    "    \n",
    "- hydrometrics\n",
    "    - by hydrometrics\n",
    "\n",
    "- MK-test outcome\n",
    "    - by method and then by hydrometrics"
   ]
  },
  {
   "cell_type": "code",
   "execution_count": 43,
   "metadata": {},
   "outputs": [],
   "source": [
    "import numpy as np\n",
    "import pandas as pd\n",
    "\n",
    "import os\n",
    "import sys\n",
    "\n",
    "import geopandas as gpd\n",
    "\n",
    "import pickle\n",
    "from tqdm.notebook import tqdm\n",
    "\n",
    "sys.path.append('../../funclib')\n",
    "from myclass import TensorFrame\n",
    "\n",
    "# root_dir = '../External'\n",
    "root_dir = '/Volumes/sambashare'\n",
    "# root_dir = '/media/weigangtang/Samba'\n",
    "\n",
    "flow_dir = root_dir + '/Python/flow_data'\n",
    "gis_dir = root_dir + '/GIS Data'"
   ]
  },
  {
   "cell_type": "markdown",
   "metadata": {},
   "source": [
    "# ADHs"
   ]
  },
  {
   "cell_type": "code",
   "execution_count": 14,
   "metadata": {},
   "outputs": [],
   "source": [
    "df_hys = pd.read_csv(flow_dir + '/hydata_merged/hys_1979-2021_30y.csv', index_col=[0, 1])\n",
    "df_hys = df_hys.round(3)"
   ]
  },
  {
   "cell_type": "code",
   "execution_count": 96,
   "metadata": {},
   "outputs": [
    {
     "data": {
      "application/vnd.jupyter.widget-view+json": {
       "model_id": "b2537220a70449d8ac94e710378e6513",
       "version_major": 2,
       "version_minor": 0
      },
      "text/plain": [
       "  0%|          | 0/1781 [00:00<?, ?it/s]"
      ]
     },
     "metadata": {},
     "output_type": "display_data"
    }
   ],
   "source": [
    "sid_list = np.unique(df_hys.index.get_level_values('SID'))\n",
    "\n",
    "for target_sid in tqdm(sid_list):\n",
    "    \n",
    "    df_hys_sel = df_hys.loc[target_sid]\n",
    "    # df_hys_sel.to_csv('../data/ADHs/{}.csv'.format(target_sid))"
   ]
  },
  {
   "cell_type": "markdown",
   "metadata": {},
   "source": [
    "# Gauges"
   ]
  },
  {
   "cell_type": "code",
   "execution_count": 110,
   "metadata": {},
   "outputs": [],
   "source": [
    "gauges = pd.read_csv(flow_dir + '/Station_Info_ALL_merged.csv', index_col=0)"
   ]
  },
  {
   "cell_type": "code",
   "execution_count": 122,
   "metadata": {},
   "outputs": [],
   "source": [
    "hys_fpath_list = glob.glob('../data/ADHs/*.csv')\n",
    "hys_fpath_list = sorted(hys_fpath_list)\n",
    "\n",
    "sel_sid = [\n",
    "    hys_fpath.split('/')[-1].replace('.csv', '') \n",
    "    for hys_fpath in hys_fpath_list\n",
    "]\n",
    "\n",
    "gauges.loc[sel_sid].to_csv('../data/Station_Info_ALL.csv')"
   ]
  },
  {
   "cell_type": "markdown",
   "metadata": {},
   "source": [
    "# Hydrometrics"
   ]
  },
  {
   "cell_type": "code",
   "execution_count": null,
   "metadata": {},
   "outputs": [],
   "source": [
    "hym_fpath = flow_dir + '/hydata_merged/hym_1979-2021_30y.csv'\n",
    "df_hym = pd.read_csv(hym_fpath, index_col=[0, 1])"
   ]
  },
  {
   "cell_type": "code",
   "execution_count": null,
   "metadata": {},
   "outputs": [],
   "source": [
    "out_folder = '../data/hydrometrics'\n",
    "if not os.path.exists(out_folder):\n",
    "    os.mkdir(out_folder)\n",
    "\n",
    "for target_metric in df_hym.columns:\n",
    "    df = df_hym[target_metric].reset_index()\n",
    "    df = df.pivot(index='SID', columns='Year', values=target_metric)\n",
    "    df.to_csv(out_folder + '/{}.csv'.format(target_metric))"
   ]
  },
  {
   "cell_type": "markdown",
   "metadata": {},
   "source": [
    "# MK-test Output"
   ]
  },
  {
   "cell_type": "code",
   "execution_count": 44,
   "metadata": {},
   "outputs": [],
   "source": [
    "method_list = ['original', 'rao', 'yue', 'prewhiten', 'trendfree']\n",
    "\n",
    "for method in method_list:\n",
    "\n",
    "    mkout_fpath_frame = flow_dir + '/hydata_merged/mkout_1979-2021_30y_{}.pkl'\n",
    "    mkout_fpath = mkout_fpath_frame.format(method)\n",
    "    with open(mkout_fpath, 'rb') as f:\n",
    "        mkout_tframe = pickle.load(f)\n",
    "\n",
    "    out_folder = '../data/mktest/{}'.format(method)\n",
    "    if not os.path.exists(out_folder):\n",
    "        os.mkdir(out_folder)\n",
    "\n",
    "    metric_list = mkout_tframe.name2d\n",
    "    for target_metric in metric_list:\n",
    "        df = mkout_tframe.to_frame(target_metric)\n",
    "        df.to_csv(out_folder + '/{}.csv'.format(target_metric))"
   ]
  },
  {
   "cell_type": "markdown",
   "metadata": {},
   "source": [
    "# Watershed Shapefile"
   ]
  },
  {
   "cell_type": "code",
   "execution_count": 20,
   "metadata": {},
   "outputs": [],
   "source": [
    "gdf_wat = gpd.read_file(gis_dir + '/clean_watersheds/ALL_REF_watersheds.shp')\n",
    "gdf_wat = gdf_wat.set_index('SID')"
   ]
  },
  {
   "cell_type": "code",
   "execution_count": 30,
   "metadata": {},
   "outputs": [
    {
     "data": {
      "application/vnd.jupyter.widget-view+json": {
       "model_id": "5aba67b5e76348339f179e41e86131d1",
       "version_major": 2,
       "version_minor": 0
      },
      "text/plain": [
       "  0%|          | 0/1242 [00:00<?, ?it/s]"
      ]
     },
     "metadata": {},
     "output_type": "display_data"
    }
   ],
   "source": [
    "# for target_sid in tqdm(gdf_wat.index):\n",
    "#     gdf_wat.loc[[target_sid]].to_file(\n",
    "#         '../data/watershed_shapefile/{}.geojson'.format(target_sid),\n",
    "#         driver='GeoJSON'\n",
    "#     )"
   ]
  },
  {
   "cell_type": "code",
   "execution_count": 44,
   "metadata": {},
   "outputs": [],
   "source": [
    "mkout_fpath = flow_dir + '/hydata_merged/mkout_1979-2021_30y_trendfree.pkl'\n",
    "with open(mkout_fpath, 'rb') as f:\n",
    "    mkout_tframe = pickle.load(f)"
   ]
  }
 ],
 "metadata": {
  "kernelspec": {
   "display_name": "Python 3 (ipykernel)",
   "language": "python",
   "name": "python3"
  },
  "language_info": {
   "codemirror_mode": {
    "name": "ipython",
    "version": 3
   },
   "file_extension": ".py",
   "mimetype": "text/x-python",
   "name": "python",
   "nbconvert_exporter": "python",
   "pygments_lexer": "ipython3",
   "version": "3.9.7"
  }
 },
 "nbformat": 4,
 "nbformat_minor": 4
}
